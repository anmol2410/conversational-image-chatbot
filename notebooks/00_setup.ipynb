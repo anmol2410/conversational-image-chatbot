{
  "nbformat": 4,
  "nbformat_minor": 0,
  "metadata": {
    "colab": {
      "provenance": [],
      "gpuType": "T4"
    },
    "kernelspec": {
      "name": "python3",
      "display_name": "Python 3"
    },
    "language_info": {
      "name": "python"
    },
    "accelerator": "GPU"
  },
  "cells": [
    {
      "cell_type": "code",
      "execution_count": 2,
      "metadata": {
        "id": "Sv3DAG0KxJuw",
        "colab": {
          "base_uri": "https://localhost:8080/"
        },
        "outputId": "ad10e1cf-f828-4722-bbb5-a77aeae81826"
      },
      "outputs": [
        {
          "output_type": "stream",
          "name": "stdout",
          "text": [
            "Hello, Chatbot Project\n"
          ]
        }
      ],
      "source": [
        "print(\"Hello, Chatbot Project\")"
      ]
    },
    {
      "cell_type": "code",
      "source": [
        "import torch\n"
      ],
      "metadata": {
        "id": "WCcHeOTXyGCP"
      },
      "execution_count": 2,
      "outputs": []
    },
    {
      "cell_type": "code",
      "source": [
        "print(\"Torch version:\", torch.__version__)\n",
        "print(\"CUDA available:\", torch.cuda.is_available())"
      ],
      "metadata": {
        "colab": {
          "base_uri": "https://localhost:8080/"
        },
        "id": "JIfy5iD4yOM2",
        "outputId": "ef31f135-3761-4c5a-ff71-ab73588bfe82"
      },
      "execution_count": 3,
      "outputs": [
        {
          "output_type": "stream",
          "name": "stdout",
          "text": [
            "Torch version: 2.8.0+cu126\n",
            "CUDA available: True\n"
          ]
        }
      ]
    },
    {
      "cell_type": "code",
      "source": [
        "# Create a tensor (like a list but faster, for AI)\n",
        "x = torch.tensor([1, 2, 3, 4, 5])\n",
        "print(\"Tensor:\", x)\n",
        "\n",
        "# Add 10 to each element\n",
        "y = x + 10\n",
        "print(\"After adding:\", y)\n",
        "\n",
        "# Create a random tensor (2x3 matrix)\n",
        "z = torch.rand(2, 3)\n",
        "print(\"Random tensor:\\n\", z)\n"
      ],
      "metadata": {
        "colab": {
          "base_uri": "https://localhost:8080/"
        },
        "id": "wnvLUeX7yvGI",
        "outputId": "718d1840-a194-4db2-e9f1-04af6f406b78"
      },
      "execution_count": 4,
      "outputs": [
        {
          "output_type": "stream",
          "name": "stdout",
          "text": [
            "Tensor: tensor([1, 2, 3, 4, 5])\n",
            "After adding: tensor([11, 12, 13, 14, 15])\n",
            "Random tensor:\n",
            " tensor([[0.7777, 0.2507, 0.9502],\n",
            "        [0.7306, 0.3128, 0.2619]])\n"
          ]
        }
      ]
    }
  ]
}